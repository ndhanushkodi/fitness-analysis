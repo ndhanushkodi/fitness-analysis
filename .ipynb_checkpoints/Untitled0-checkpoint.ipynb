{
 "metadata": {
  "name": "",
  "signature": "sha256:995b064d137f14f5b61399ccb2b3fcc495cf05b071cfdb37c2c11bf0bd9c6e63"
 },
 "nbformat": 3,
 "nbformat_minor": 0,
 "worksheets": []
}