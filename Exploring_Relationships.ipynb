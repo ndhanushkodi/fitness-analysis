{
 "metadata": {
  "name": "",
  "signature": "sha256:c4da121716e568043787a35f173e0c05f09497af61020805612d867b4a4230ab"
 },
 "nbformat": 3,
 "nbformat_minor": 0,
 "worksheets": [
  {
   "cells": [
    {
     "cell_type": "code",
     "collapsed": true,
     "input": [
      "import pandas as pd\n",
      "from pandas import DataFrame as DF\n",
      "import numpy as np\n",
      "import matplotlib.pyplot as plt\n",
      "from numpy.random import normal\n",
      "import thinkstats2\n",
      "import thinkplot\n",
      "\n",
      "df =pd.read_table('/home/ndhanushkodi/SOPHCLASSES/DataSci/FitnesskeeperData/FitnessData_2014.tsv', sep='\\t')\n",
      "df.info()"
     ],
     "language": "python",
     "metadata": {},
     "outputs": []
    },
    {
     "cell_type": "heading",
     "level": 2,
     "metadata": {},
     "source": [
      "Adding pace as a variable made from duration/distance"
     ]
    },
    {
     "cell_type": "code",
     "collapsed": false,
     "input": [
      "df['pace'] = df.duration_min/df.distance_mi"
     ],
     "language": "python",
     "metadata": {},
     "outputs": []
    },
    {
     "cell_type": "code",
     "collapsed": false,
     "input": [
      "df.info()"
     ],
     "language": "python",
     "metadata": {},
     "outputs": []
    },
    {
     "cell_type": "heading",
     "level": 2,
     "metadata": {},
     "source": [
      "Mapping Gender to Integers"
     ]
    },
    {
     "cell_type": "code",
     "collapsed": false,
     "input": [
      "df['genderNum'] = df['gender'].map({'F': 0, 'M':1}).astype(int)"
     ],
     "language": "python",
     "metadata": {},
     "outputs": []
    },
    {
     "cell_type": "code",
     "collapsed": false,
     "input": [
      "df.info()"
     ],
     "language": "python",
     "metadata": {},
     "outputs": []
    },
    {
     "cell_type": "heading",
     "level": 2,
     "metadata": {},
     "source": [
      "Grouping the df by users rather than trips, now we can look at relationships and distributions better"
     ]
    },
    {
     "cell_type": "code",
     "collapsed": false,
     "input": [
      "a = df.groupby('userid')"
     ],
     "language": "python",
     "metadata": {},
     "outputs": []
    },
    {
     "cell_type": "code",
     "collapsed": false,
     "input": [
      "ages = a['age'].mean()\n",
      "distances = a['distance_mi'].mean()\n",
      "durations = a['duration_min'].mean()\n",
      "paces = a['pace'].mean()\n"
     ],
     "language": "python",
     "metadata": {},
     "outputs": []
    },
    {
     "cell_type": "code",
     "collapsed": false,
     "input": [
      "# THIS IS THE AGE DISTRIBUTION BY USER, RATHER THAN BY WORKOUT. WE HAVE THIS TOOL TO USE FROM NOW ON. \n",
      "\n",
      "plt.hist(ages, range=(10,80), bins=70)\n",
      "plt.title(\"Age\")\n",
      "plt.xlabel(\"Age\")\n",
      "plt.ylabel(\"Frequency\")\n",
      "plt.ylim([0, 500])\n",
      "plt.show()"
     ],
     "language": "python",
     "metadata": {},
     "outputs": []
    },
    {
     "cell_type": "code",
     "collapsed": false,
     "input": [
      "plt.scatter(ages,paces, alpha = 0.05)\n",
      "plt.ylim([-10, 60])\n",
      "plt.xlabel(\"Age\")\n",
      "plt.ylabel(\"Pace\")"
     ],
     "language": "python",
     "metadata": {},
     "outputs": []
    },
    {
     "cell_type": "code",
     "collapsed": false,
     "input": [
      "plt.scatter(durations,distances, alpha = 0.05)\n",
      "plt.xlabel(\"Duration\")\n",
      "plt.ylabel(\"Distance\")"
     ],
     "language": "python",
     "metadata": {},
     "outputs": []
    },
    {
     "cell_type": "code",
     "collapsed": false,
     "input": [
      "a.mean().corr()"
     ],
     "language": "python",
     "metadata": {},
     "outputs": []
    },
    {
     "cell_type": "code",
     "collapsed": false,
     "input": [
      "# This correlation table tells us the correlation between any two variables. \n",
      "#We need to clean this data for the future and figure out how to deal with categorical variables. "
     ],
     "language": "python",
     "metadata": {},
     "outputs": []
    },
    {
     "cell_type": "code",
     "collapsed": false,
     "input": [
      "#UPDATE: We now have cleaned data, which we use for future sections. "
     ],
     "language": "python",
     "metadata": {},
     "outputs": []
    }
   ],
   "metadata": {}
  }
 ]
}