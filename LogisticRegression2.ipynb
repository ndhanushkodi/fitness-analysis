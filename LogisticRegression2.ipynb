{
 "metadata": {
  "name": "",
  "signature": "sha256:5e5ca2cbe89ec5a41c0275b2e6fc8c07b9745dbd78cd964d1bd83f69aa5ad2d4"
 },
 "nbformat": 3,
 "nbformat_minor": 0,
 "worksheets": [
  {
   "cells": [
    {
     "cell_type": "code",
     "collapsed": false,
     "input": [
      "import pandas as pd\n",
      "from pandas import DataFrame as DF\n",
      "import numpy as np\n",
      "import matplotlib.pyplot as plt\n",
      "from numpy.random import normal\n",
      "import thinkstats2\n",
      "import thinkplot\n",
      "from sklearn.linear_model import LogisticRegression\n",
      "from sklearn.ensemble import RandomForestClassifier\n",
      "from sklearn import metrics\n",
      "\n",
      "#read data\n",
      "df =pd.read_table('/home/ndhanushkodi/SOPHCLASSES/DataSci/FitnesskeeperData/FitnessData_2014.tsv', sep='\\t')\n",
      "\n",
      "#import stuff\n",
      "import imp\n",
      "me = imp.load_source('clean', '/home/ndhanushkodi/SOPHCLASSES/DataSci/fitness-analysis/clean.py')\n",
      "#est = imp.load_source('Estimation_of_distance', '/home/ndhanushkodi/SOPHCLASSES/DataSci/fitness-analysis/Estimation_of_distance.py')"
     ],
     "language": "python",
     "metadata": {},
     "outputs": []
    },
    {
     "cell_type": "code",
     "collapsed": false,
     "input": [
      "rw = me.clean_data(df)\n",
      "rw['genderNum'] = rw['gender'].map({'F':0, 'M':1}).astype(int)\n",
      "u = rw.groupby('userid')"
     ],
     "language": "python",
     "metadata": {},
     "outputs": []
    },
    {
     "cell_type": "code",
     "collapsed": false,
     "input": [
      "umean = u.mean()\n",
      "umeandict = umean.to_dict()\n",
      "listOfUserIds = umeandict['age'].keys() #gives us list of userid's\n",
      "#listOfUserIds\n",
      "umean"
     ],
     "language": "python",
     "metadata": {},
     "outputs": []
    },
    {
     "cell_type": "code",
     "collapsed": false,
     "input": [
      "from sklearn.cross_validation import train_test_split\n",
      "user_train, user_test = train_test_split(listOfUserIds, test_size=0.10, random_state=42)\n",
      "\n",
      "train_index = []\n",
      "for user in user_train:\n",
      "    train_index.append(listOfUserIds.index(user))\n",
      "    \n",
      "test_index = []\n",
      "for user in user_test:\n",
      "    test_index.append(listOfUserIds.index(user))\n",
      "    \n",
      "\n",
      "train = umean.ix[train_index]\n",
      "test = umean.ix[test_index]\n",
      "\n",
      "y = train['is_elite'].values\n",
      "X = train.drop(['is_elite'], 1)\n",
      "X = X.values\n",
      "\n",
      "model = LogisticRegression()\n",
      "model = model.fit(X,y)\n",
      "model.score(X,y)"
     ],
     "language": "python",
     "metadata": {},
     "outputs": []
    },
    {
     "cell_type": "code",
     "collapsed": false,
     "input": [
      "X"
     ],
     "language": "python",
     "metadata": {},
     "outputs": []
    },
    {
     "cell_type": "code",
     "collapsed": false,
     "input": [
      "#now actually predict\n",
      "testX = test.drop(['is_elite'], 1)\n",
      "testX = testX.values\n",
      "predictions = model.predict(testX)\n",
      "\n",
      "#and compare\n",
      "testy = test['is_elite'].values\n",
      "metrics.accuracy_score(testy,predictions)"
     ],
     "language": "python",
     "metadata": {},
     "outputs": []
    },
    {
     "cell_type": "code",
     "collapsed": false,
     "input": [
      "model.raw_coef_"
     ],
     "language": "python",
     "metadata": {},
     "outputs": []
    },
    {
     "cell_type": "code",
     "collapsed": false,
     "input": [
      "log_prob_preds = model.predict_log_proba(testX)\n",
      "prob_preds = model.predict_proba(testX)\n",
      "prob_preds"
     ],
     "language": "python",
     "metadata": {},
     "outputs": []
    },
    {
     "cell_type": "code",
     "collapsed": false,
     "input": [
      "log_prob_preds"
     ],
     "language": "python",
     "metadata": {},
     "outputs": []
    },
    {
     "cell_type": "code",
     "collapsed": false,
     "input": [],
     "language": "python",
     "metadata": {},
     "outputs": []
    }
   ],
   "metadata": {}
  }
 ]
}