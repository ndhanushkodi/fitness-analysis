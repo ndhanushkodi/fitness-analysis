{
 "metadata": {
  "name": "",
  "signature": "sha256:0a9e764de6a75e4b8013c2d0477fa4f1af3b1316f0990099b2af3120c1cecedf"
 },
 "nbformat": 3,
 "nbformat_minor": 0,
 "worksheets": [
  {
   "cells": [
    {
     "cell_type": "code",
     "collapsed": false,
     "input": [
      "import pandas as pd\n",
      "from pandas import DataFrame as DF\n",
      "import numpy as np\n",
      "import matplotlib.pyplot as plt\n",
      "from numpy.random import normal\n",
      "import thinkstats2\n",
      "import thinkplot\n",
      "\n",
      "df =pd.read_table('/home/ndhanushkodi/SOPHCLASSES/DataSci/FitnesskeeperData/FitnessData_2014.tsv', sep='\\t')\n",
      "df.info()"
     ],
     "language": "python",
     "metadata": {},
     "outputs": []
    },
    {
     "cell_type": "code",
     "collapsed": false,
     "input": [
      "print \"MEAN VALUES\"\n",
      "print \"Age: \" + str(df['age'].mean())\n",
      "print \"Distance_mi: \" + str(df['distance_mi'].mean())\n",
      "print \"Duration_mi: \" + str(df['duration_min'].mean())\n",
      "print \"Trips_before: \" + str(df['trips_before'].mean())\n",
      "print \"Distance_before_mi: \" + str(df['distance_before_mi'].mean())\n",
      "print \"Duration_before_min: \" + str(df['duration_before_min'].mean())\n",
      "print \"Is_elite: \" + str(df['is_elite'].mean())"
     ],
     "language": "python",
     "metadata": {},
     "outputs": []
    },
    {
     "cell_type": "heading",
     "level": 3,
     "metadata": {},
     "source": [
      "Distributions and Summaries of Important Variables"
     ]
    },
    {
     "cell_type": "heading",
     "level": 4,
     "metadata": {},
     "source": [
      "Age"
     ]
    },
    {
     "cell_type": "code",
     "collapsed": false,
     "input": [
      "plt.hist(df['age'], range=(10,80), bins=70)\n",
      "plt.title(\"Age\")\n",
      "plt.xlabel(\"Age\")\n",
      "plt.ylabel(\"Frequency\")\n",
      "plt.show()"
     ],
     "language": "python",
     "metadata": {},
     "outputs": []
    },
    {
     "cell_type": "code",
     "collapsed": false,
     "input": [
      "age_cdf = thinkstats2.Cdf(df['age'])\n",
      "thinkplot.Cdf(age_cdf, label= \"age\")\n",
      "thinkplot.Config(xlabel = 'age', ylabel = 'cdf')"
     ],
     "language": "python",
     "metadata": {},
     "outputs": []
    },
    {
     "cell_type": "code",
     "collapsed": false,
     "input": [
      "age_pmf = thinkstats2.Pmf(df['age'])\n",
      "thinkplot.Pmf(age_pmf, label= \"age\")\n",
      "thinkplot.Config(xlabel = 'age', ylabel = 'pmf')"
     ],
     "language": "python",
     "metadata": {},
     "outputs": []
    },
    {
     "cell_type": "heading",
     "level": 4,
     "metadata": {},
     "source": [
      "Distance in Miles"
     ]
    },
    {
     "cell_type": "code",
     "collapsed": false,
     "input": [
      "#DISTANCE\n",
      "plt.hist(df['distance_mi'],range(0,20))\n",
      "plt.title(\"Distance_mi_histogram\")\n",
      "plt.xlabel(\"Distance_mi\")\n",
      "plt.ylabel(\"Frequency\")\n",
      "plt.show()"
     ],
     "language": "python",
     "metadata": {},
     "outputs": []
    },
    {
     "cell_type": "code",
     "collapsed": false,
     "input": [
      "distance_mi_cdf = thinkstats2.Cdf(df['distance_mi'])\n",
      "thinkplot.Cdf(distance_mi_cdf, label= \"distance_mi\")\n",
      "thinkplot.Config(xlabel = 'distance', ylabel = 'cdf')"
     ],
     "language": "python",
     "metadata": {},
     "outputs": []
    },
    {
     "cell_type": "code",
     "collapsed": false,
     "input": [
      "distance_mi_pmf = thinkstats2.Pmf(df['distance_mi'])\n",
      "thinkplot.Pmf(distance_mi_pmf, label= \"distance_mi\")\n",
      "thinkplot.Config(xlabel = 'distance', ylabel = 'pmf', axis=[-1,40,0,0.009])"
     ],
     "language": "python",
     "metadata": {},
     "outputs": []
    },
    {
     "cell_type": "heading",
     "level": 4,
     "metadata": {},
     "source": [
      "Duration in Minutes"
     ]
    },
    {
     "cell_type": "code",
     "collapsed": false,
     "input": [
      "#DURATION\n",
      "plt.hist(df['duration_min'], range=(0,200), bins=100)\n",
      "plt.title(\"Duration_min_histogram\")\n",
      "plt.xlabel(\"Duration_min\")\n",
      "plt.ylabel(\"Frequency\")\n",
      "plt.show()"
     ],
     "language": "python",
     "metadata": {},
     "outputs": []
    },
    {
     "cell_type": "code",
     "collapsed": false,
     "input": [
      "duration_min_cdf = thinkstats2.Cdf(df['duration_min'])\n",
      "thinkplot.Cdf(duration_min_cdf, label= \"duration_min\")\n",
      "thinkplot.Config(xlabel = 'duration', ylabel = 'cdf')"
     ],
     "language": "python",
     "metadata": {},
     "outputs": []
    },
    {
     "cell_type": "code",
     "collapsed": false,
     "input": [
      "duration_min_pmf = thinkstats2.Pmf(df['duration_min'])\n",
      "thinkplot.Pmf(duration_min_pmf, label= \"duration_min\")\n",
      "thinkplot.Config(xlabel = 'duration', ylabel = 'pmf')"
     ],
     "language": "python",
     "metadata": {},
     "outputs": []
    },
    {
     "cell_type": "heading",
     "level": 4,
     "metadata": {},
     "source": [
      "Number of running trips recorded before April 2014"
     ]
    },
    {
     "cell_type": "code",
     "collapsed": false,
     "input": [
      "#TRIPS BEFORE\n",
      "plt.hist(df['trips_before'], range=(0,800),bins=100)\n",
      "plt.title(\"Trips_before_histogram\")\n",
      "plt.xlabel(\"Trips_before\")\n",
      "plt.ylabel(\"Frequency\")\n",
      "plt.show()"
     ],
     "language": "python",
     "metadata": {},
     "outputs": []
    },
    {
     "cell_type": "code",
     "collapsed": false,
     "input": [
      "trips_before_cdf = thinkstats2.Cdf(df['trips_before'])\n",
      "thinkplot.Cdf(trips_before_cdf, label= \"trips_before\")\n",
      "thinkplot.Config(xlabel = 'trips before april 2014', ylabel = 'cdf')"
     ],
     "language": "python",
     "metadata": {},
     "outputs": []
    },
    {
     "cell_type": "code",
     "collapsed": false,
     "input": [
      "trips_before_pmf = thinkstats2.Pmf(df['trips_before'])\n",
      "thinkplot.Cdf(trips_before_pmf, label= \"trips_before\")\n",
      "thinkplot.Config(xlabel = 'trips before april 2014', ylabel = 'pmf')"
     ],
     "language": "python",
     "metadata": {},
     "outputs": []
    },
    {
     "cell_type": "heading",
     "level": 4,
     "metadata": {},
     "source": [
      "Total distance for activities recorded before April 2014"
     ]
    },
    {
     "cell_type": "code",
     "collapsed": false,
     "input": [
      "#DISTANCE BEFORE\n",
      "plt.hist(df['distance_before_mi'], range=(0,3000), bins=100 )\n",
      "plt.title(\"Distance_before_mi_histogram\")\n",
      "plt.xlabel(\"Distance_before_mi\")\n",
      "plt.ylabel(\"Frequency\")\n",
      "plt.show()"
     ],
     "language": "python",
     "metadata": {},
     "outputs": []
    },
    {
     "cell_type": "code",
     "collapsed": false,
     "input": [
      "distance_before_cdf = thinkstats2.Cdf(df['distance_before_mi'])\n",
      "thinkplot.Cdf(distance_before_cdf, label= \"distance before\")\n",
      "thinkplot.Config(xlabel = 'distancd before april 2014', ylabel = 'cdf')"
     ],
     "language": "python",
     "metadata": {},
     "outputs": []
    },
    {
     "cell_type": "heading",
     "level": 4,
     "metadata": {},
     "source": [
      "Total time for activities recorded before April 2014"
     ]
    },
    {
     "cell_type": "code",
     "collapsed": false,
     "input": [
      "#DURATION BEFORE\n",
      "plt.hist(df['duration_before_min'], range=(0,50000), bins=100)\n",
      "plt.title(\"Duration_before_min_histogram\")\n",
      "plt.xlabel(\"Duration_before_min\")\n",
      "plt.ylabel(\"Frequency\")\n",
      "plt.show()"
     ],
     "language": "python",
     "metadata": {},
     "outputs": []
    },
    {
     "cell_type": "code",
     "collapsed": false,
     "input": [
      "duration_before_cdf = thinkstats2.Cdf(df['duration_before_min'])\n",
      "thinkplot.Cdf(trips_before_cdf, label= \"duration_before\")\n",
      "thinkplot.Config(xlabel = 'duration before april 2014', ylabel = 'cdf')"
     ],
     "language": "python",
     "metadata": {},
     "outputs": []
    },
    {
     "cell_type": "code",
     "collapsed": false,
     "input": [
      "# df['distance_mi'].hist(bins=40)"
     ],
     "language": "python",
     "metadata": {},
     "outputs": []
    },
    {
     "cell_type": "code",
     "collapsed": false,
     "input": [
      "# hist_mi = thinkstats2.Hist(df['distance_mi'])\n",
      "# thinkplot.Hist(hist_mi, label='totincr')\n",
      "# thinkplot.Show()"
     ],
     "language": "python",
     "metadata": {},
     "outputs": []
    }
   ],
   "metadata": {}
  }
 ]
}