{
 "metadata": {
  "name": "",
  "signature": "sha256:0ddffc04d89f71d6f035818c396007913604766efd14538b59fb126c55fbc80a"
 },
 "nbformat": 3,
 "nbformat_minor": 0,
 "worksheets": [
  {
   "cells": [
    {
     "cell_type": "code",
     "collapsed": false,
     "input": [
      "import pandas as pd\n",
      "from pandas import DataFrame as DF\n",
      "import numpy as np\n",
      "import matplotlib.pyplot as plt\n",
      "from numpy.random import normal\n",
      "import thinkstats2\n",
      "import thinkplot\n",
      "from sklearn.linear_model import LogisticRegression\n",
      "from sklearn.ensemble import RandomForestClassifier\n",
      "from sklearn import metrics\n",
      "\n",
      "#read data\n",
      "df =pd.read_table('/home/ndhanushkodi/SOPHCLASSES/DataSci/FitnesskeeperData/FitnessData_2014.tsv', sep='\\t')\n",
      "\n",
      "#import stuff\n",
      "import imp\n",
      "me = imp.load_source('clean', '/home/ndhanushkodi/SOPHCLASSES/DataSci/fitness-analysis/clean.py')\n",
      "est = imp.load_source('Estimation_of_distance', '/home/ndhanushkodi/SOPHCLASSES/DataSci/fitness-analysis/Estimation_of_distance.py')"
     ],
     "language": "python",
     "metadata": {},
     "outputs": []
    },
    {
     "cell_type": "code",
     "collapsed": false,
     "input": [
      "rw = me.clean_data(df)\n",
      "rw"
     ],
     "language": "python",
     "metadata": {},
     "outputs": []
    },
    {
     "cell_type": "code",
     "collapsed": false,
     "input": [
      "u = rw.groupby('userid')"
     ],
     "language": "python",
     "metadata": {},
     "outputs": []
    },
    {
     "cell_type": "code",
     "collapsed": false,
     "input": [
      "umean = u.mean()\n",
      "umean"
     ],
     "language": "python",
     "metadata": {},
     "outputs": []
    },
    {
     "cell_type": "code",
     "collapsed": false,
     "input": [
      "umeandict = umean.to_dict()\n",
      "listOfUserIds = umeandict['age'].keys() #gives us list of userid's\n",
      "#listOfUserIds"
     ],
     "language": "python",
     "metadata": {},
     "outputs": []
    },
    {
     "cell_type": "code",
     "collapsed": false,
     "input": [
      "from sklearn.cross_validation import train_test_split\n",
      "user_train, user_test = train_test_split(listOfUserIds, test_size=0.10, random_state=42)"
     ],
     "language": "python",
     "metadata": {},
     "outputs": []
    },
    {
     "cell_type": "code",
     "collapsed": false,
     "input": [
      "train_index = []\n",
      "for user in user_train:\n",
      "    train_index.append(listOfUserIds.index(user))\n",
      "    \n",
      "test_index = []\n",
      "for user in user_test:\n",
      "    test_index.append(listOfUserIds.index(user))"
     ],
     "language": "python",
     "metadata": {},
     "outputs": []
    },
    {
     "cell_type": "code",
     "collapsed": false,
     "input": [
      "train = umean.ix[train_index]\n",
      "train"
     ],
     "language": "python",
     "metadata": {},
     "outputs": []
    },
    {
     "cell_type": "code",
     "collapsed": false,
     "input": [
      "test = umean.ix[test_index]\n",
      "#test"
     ],
     "language": "python",
     "metadata": {},
     "outputs": []
    },
    {
     "cell_type": "code",
     "collapsed": false,
     "input": [
      "y = train['is_elite'].values\n",
      "y"
     ],
     "language": "python",
     "metadata": {},
     "outputs": []
    },
    {
     "cell_type": "code",
     "collapsed": false,
     "input": [
      "X = train.drop(['is_elite'], 1)\n",
      "X = X.values"
     ],
     "language": "python",
     "metadata": {},
     "outputs": []
    },
    {
     "cell_type": "code",
     "collapsed": false,
     "input": [
      "model = LogisticRegression()\n",
      "model = model.fit(X,y)\n",
      "model.score(X,y)"
     ],
     "language": "python",
     "metadata": {},
     "outputs": []
    },
    {
     "cell_type": "code",
     "collapsed": false,
     "input": [
      "print dir(model)"
     ],
     "language": "python",
     "metadata": {},
     "outputs": []
    },
    {
     "cell_type": "code",
     "collapsed": false,
     "input": [
      "testX = test.drop(['is_elite'], 1)\n",
      "testX = testX.values\n",
      "predictions = model.predict(testX)"
     ],
     "language": "python",
     "metadata": {},
     "outputs": []
    },
    {
     "cell_type": "code",
     "collapsed": false,
     "input": [
      "predictions"
     ],
     "language": "python",
     "metadata": {},
     "outputs": []
    },
    {
     "cell_type": "code",
     "collapsed": false,
     "input": [
      "testy = test['is_elite'].values\n",
      "#testy"
     ],
     "language": "python",
     "metadata": {},
     "outputs": []
    },
    {
     "cell_type": "code",
     "collapsed": false,
     "input": [
      "metrics.accuracy_score(testy,predictions)"
     ],
     "language": "python",
     "metadata": {},
     "outputs": []
    },
    {
     "cell_type": "markdown",
     "metadata": {},
     "source": [
      "So this first pass logistic regression model looks pretty cool! We are looking to continue to understand it better and make adjustments. "
     ]
    },
    {
     "cell_type": "heading",
     "level": 2,
     "metadata": {},
     "source": [
      "Random Forest Classifier Model- We don't understand this well, it was just for fun. Maybe we'll come back to this after understanding and tweaking the Logistic Regression Model. "
     ]
    },
    {
     "cell_type": "code",
     "collapsed": false,
     "input": [
      "model2 = RandomForestClassifier(n_estimators=10)\n",
      "model2 = model2.fit(X,y)\n",
      "model2.score(X,y)"
     ],
     "language": "python",
     "metadata": {},
     "outputs": []
    },
    {
     "cell_type": "code",
     "collapsed": false,
     "input": [
      "model2"
     ],
     "language": "python",
     "metadata": {},
     "outputs": []
    },
    {
     "cell_type": "code",
     "collapsed": false,
     "input": [
      "predictions2 = model2.predict(testX)\n",
      "predictions2"
     ],
     "language": "python",
     "metadata": {},
     "outputs": []
    },
    {
     "cell_type": "code",
     "collapsed": false,
     "input": [
      "metrics.accuracy_score(testy,predictions2)"
     ],
     "language": "python",
     "metadata": {},
     "outputs": []
    },
    {
     "cell_type": "code",
     "collapsed": false,
     "input": [
      "model2.score(testX,testy)"
     ],
     "language": "python",
     "metadata": {},
     "outputs": []
    },
    {
     "cell_type": "code",
     "collapsed": false,
     "input": [],
     "language": "python",
     "metadata": {},
     "outputs": []
    },
    {
     "cell_type": "code",
     "collapsed": false,
     "input": [],
     "language": "python",
     "metadata": {},
     "outputs": []
    }
   ],
   "metadata": {}
  }
 ]
}