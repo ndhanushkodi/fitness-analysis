{
 "metadata": {
  "name": "",
  "signature": "sha256:d5ed5f6a6b1693aa2b4322e012d2f67f0a1b369f0837afb6904b5781a74ea889"
 },
 "nbformat": 3,
 "nbformat_minor": 0,
 "worksheets": [
  {
   "cells": [
    {
     "cell_type": "code",
     "collapsed": false,
     "input": [
      "import pandas as pd\n",
      "from pandas import DataFrame as DF\n",
      "import numpy as np\n",
      "import matplotlib.pyplot as plt\n",
      "from numpy.random import normal\n",
      "import thinkstats2\n",
      "import thinkplot\n",
      "\n",
      "#read data\n",
      "df =pd.read_table('/home/ndhanushkodi/SOPHCLASSES/DataSci/FitnesskeeperData/FitnessData_2014.tsv', sep='\\t')\n",
      "\n",
      "#import stuff\n",
      "import imp\n",
      "me = imp.load_source('clean_and_visualize', '/home/ndhanushkodi/SOPHCLASSES/DataSci/fitness-analysis/clean_and_visualize.py')\n",
      "est = imp.load_source('Estimation_of_distance', '/home/ndhanushkodi/SOPHCLASSES/DataSci/fitness-analysis/Estimation_of_distance.py')"
     ],
     "language": "python",
     "metadata": {},
     "outputs": []
    },
    {
     "cell_type": "code",
     "collapsed": false,
     "input": [
      "rw = me.clean_data(df)\n",
      "rw"
     ],
     "language": "python",
     "metadata": {},
     "outputs": []
    },
    {
     "cell_type": "code",
     "collapsed": false,
     "input": [
      "u = rw.groupby('userid')"
     ],
     "language": "python",
     "metadata": {},
     "outputs": []
    },
    {
     "cell_type": "code",
     "collapsed": false,
     "input": [
      "u.mean()"
     ],
     "language": "python",
     "metadata": {},
     "outputs": []
    },
    {
     "cell_type": "code",
     "collapsed": false,
     "input": [
      "u_age = u['age'].mean()\n",
      "u_distance_mi = u['distance_mi'].mean()\n",
      "u_duration_min = u['duration_min'].mean()\n",
      "u_pace = u['pace'].mean()\n",
      "u_trips_before = u['trips_before'].mean()"
     ],
     "language": "python",
     "metadata": {},
     "outputs": []
    },
    {
     "cell_type": "code",
     "collapsed": false,
     "input": [
      "me.trips_before_histogram(u_trips_before)"
     ],
     "language": "python",
     "metadata": {},
     "outputs": []
    },
    {
     "cell_type": "code",
     "collapsed": false,
     "input": [
      "distances = u['distance_mi'].mean()\n",
      "distances.max()"
     ],
     "language": "python",
     "metadata": {},
     "outputs": []
    },
    {
     "cell_type": "heading",
     "level": 2,
     "metadata": {},
     "source": [
      "Estimation of Distance"
     ]
    },
    {
     "cell_type": "code",
     "collapsed": false,
     "input": [
      "est.runEstimation()"
     ],
     "language": "python",
     "metadata": {},
     "outputs": []
    },
    {
     "cell_type": "heading",
     "level": 2,
     "metadata": {},
     "source": [
      "Hypothesis Test"
     ]
    },
    {
     "cell_type": "code",
     "collapsed": false,
     "input": [
      "rw_iphone = rw[rw['platform'] == 'iphone']\n",
      "rw_iphone"
     ],
     "language": "python",
     "metadata": {},
     "outputs": []
    },
    {
     "cell_type": "code",
     "collapsed": false,
     "input": [
      "rw_android = rw[rw['platform'] == 'android']\n",
      "rw_android"
     ],
     "language": "python",
     "metadata": {},
     "outputs": []
    },
    {
     "cell_type": "code",
     "collapsed": false,
     "input": [
      "class DiffMeansPermute(thinkstats2.HypothesisTest):\n",
      "    \"\"\"Tests a difference in means by permutation.\"\"\"\n",
      "\n",
      "    def TestStatistic(self, data):\n",
      "        \"\"\"Computes the test statistic.\n",
      "\n",
      "        data: data in whatever form is relevant        \n",
      "        \"\"\"\n",
      "        group1, group2 = data\n",
      "        test_stat = abs(group1.mean() - group2.mean())\n",
      "        return test_stat\n",
      "\n",
      "    def MakeModel(self):\n",
      "        \"\"\"Build a model of the null hypothesis.\n",
      "        \"\"\"\n",
      "        group1, group2 = self.data\n",
      "        self.n, self.m = len(group1), len(group2)\n",
      "        self.pool = np.hstack((group1, group2))\n",
      "\n",
      "    def RunModel(self):\n",
      "        \"\"\"Run the model of the null hypothesis.\n",
      "\n",
      "        returns: simulated data\n",
      "        \"\"\"\n",
      "        np.random.shuffle(self.pool)\n",
      "        data = self.pool[:self.n], self.pool[self.n:]\n",
      "        return data"
     ],
     "language": "python",
     "metadata": {},
     "outputs": []
    },
    {
     "cell_type": "code",
     "collapsed": false,
     "input": [
      "data = rw_iphone.distance_mi.values, rw_android.distance_mi.values\n",
      "ht = DiffMeansPermute(data)\n",
      "pvalue = ht.PValue()"
     ],
     "language": "python",
     "metadata": {},
     "outputs": []
    },
    {
     "cell_type": "code",
     "collapsed": false,
     "input": [
      "pvalue"
     ],
     "language": "python",
     "metadata": {},
     "outputs": []
    },
    {
     "cell_type": "code",
     "collapsed": false,
     "input": [
      "rw_android.distance_mi.values.mean()"
     ],
     "language": "python",
     "metadata": {},
     "outputs": []
    },
    {
     "cell_type": "code",
     "collapsed": false,
     "input": [
      "rw_iphone.distance_mi.values.mean()"
     ],
     "language": "python",
     "metadata": {},
     "outputs": []
    },
    {
     "cell_type": "code",
     "collapsed": false,
     "input": [
      "ht.PlotCdf()"
     ],
     "language": "python",
     "metadata": {},
     "outputs": []
    },
    {
     "cell_type": "code",
     "collapsed": false,
     "input": [
      "data2 = rw_iphone.duration_min.values, rw_android.duration_min.values\n",
      "ht2 = DiffMeansPermute(data2)\n",
      "pvalue2 = ht2.PValue()"
     ],
     "language": "python",
     "metadata": {},
     "outputs": []
    },
    {
     "cell_type": "code",
     "collapsed": false,
     "input": [
      "pvalue2"
     ],
     "language": "python",
     "metadata": {},
     "outputs": []
    },
    {
     "cell_type": "code",
     "collapsed": false,
     "input": [
      "x = np.array([1,2,3,4,5])\n",
      "data3 = x,x\n",
      "ht3 = DiffMeansPermute(data3)\n",
      "pvalue3 = ht3.PValue()"
     ],
     "language": "python",
     "metadata": {},
     "outputs": []
    },
    {
     "cell_type": "code",
     "collapsed": false,
     "input": [
      "pvalue3"
     ],
     "language": "python",
     "metadata": {},
     "outputs": []
    },
    {
     "cell_type": "code",
     "collapsed": false,
     "input": [],
     "language": "python",
     "metadata": {},
     "outputs": []
    }
   ],
   "metadata": {}
  }
 ]
}