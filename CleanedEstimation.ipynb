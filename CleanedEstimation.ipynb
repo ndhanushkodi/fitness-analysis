{
 "metadata": {
  "name": "",
  "signature": "sha256:ba121640e357ce5f4fbc5e2055b478db044de10a835a6b2879142538c87b063f"
 },
 "nbformat": 3,
 "nbformat_minor": 0,
 "worksheets": [
  {
   "cells": [
    {
     "cell_type": "code",
     "collapsed": false,
     "input": [
      "import pandas as pd\n",
      "from pandas import DataFrame as DF\n",
      "import numpy as np\n",
      "import matplotlib.pyplot as plt\n",
      "from numpy.random import normal\n",
      "import thinkstats2\n",
      "import thinkplot\n",
      "import random\n",
      "import math\n",
      "\n",
      "#read data\n",
      "df =pd.read_table('/home/ndhanushkodi/SOPHCLASSES/DataSci/FitnesskeeperData/FitnessData_2014.tsv', sep='\\t')\n",
      "\n",
      "#import stuff\n",
      "import imp\n",
      "me = imp.load_source('clean', '/home/ndhanushkodi/SOPHCLASSES/DataSci/fitness-analysis/clean.py')\n",
      "est = imp.load_source('Estimation_of_distance', '/home/ndhanushkodi/SOPHCLASSES/DataSci/fitness-analysis/Estimation_of_distance.py')"
     ],
     "language": "python",
     "metadata": {},
     "outputs": []
    },
    {
     "cell_type": "code",
     "collapsed": false,
     "input": [
      "rw = me.clean_data(df)\n",
      "u = rw.groupby('userid')"
     ],
     "language": "python",
     "metadata": {},
     "outputs": []
    },
    {
     "cell_type": "code",
     "collapsed": false,
     "input": [
      "u.mean()"
     ],
     "language": "python",
     "metadata": {},
     "outputs": []
    },
    {
     "cell_type": "heading",
     "level": 2,
     "metadata": {},
     "source": [
      "Estimation for distance_mi across workouts"
     ]
    },
    {
     "cell_type": "code",
     "collapsed": false,
     "input": [
      "#From Estimation_of_distance.py\n",
      "def createsEstimation(df):\n",
      "    values =[]\n",
      "    for i in range(1000):\n",
      "        rows = np.random.choice(df.index.values, 100)\n",
      "        sampled_df = df.ix[rows]\n",
      "        values.append(sampled_df['distance_mi'].mean())\n",
      "    return values\n",
      "\n",
      "def RMSE(estimates, actual):\n",
      "    e2 = [(estimate-actual)**2 for estimate in estimates]\n",
      "    mse = np.mean(e2)\n",
      "    return math.sqrt(mse)\n",
      "\n",
      "def runEstimation():\n",
      "    samples = (createsEstimation(rw))\n",
      "    samples.sort()\n",
      "    print(\"CI: \")\n",
      "    print (samples[100])\n",
      "    print (samples[900])\n",
      "    print (\"RMSE: \")\n",
      "    print (RMSE(samples, rw['distance_mi'].mean()))\n",
      "\n",
      "    plt.hist(samples)\n",
      "    plt.show()\n"
     ],
     "language": "python",
     "metadata": {},
     "outputs": []
    },
    {
     "cell_type": "code",
     "collapsed": false,
     "input": [
      "runEstimation()"
     ],
     "language": "python",
     "metadata": {},
     "outputs": []
    },
    {
     "cell_type": "markdown",
     "metadata": {},
     "source": [
      "The confidence interval for average distance across workouts is 3.707 to 4.34 miles. The RMSE is 0.242 miles. "
     ]
    },
    {
     "cell_type": "code",
     "collapsed": false,
     "input": [],
     "language": "python",
     "metadata": {},
     "outputs": []
    }
   ],
   "metadata": {}
  }
 ]
}